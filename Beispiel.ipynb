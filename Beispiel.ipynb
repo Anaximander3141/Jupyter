{
 "cells": [
  {
   "cell_type": "markdown",
   "metadata": {},
   "source": [
    "Um die Boxen in den Jupyter Notebooks einzubinden, muss zunächst die markdown.py-Datei importiert werden:"
   ]
  },
  {
   "cell_type": "code",
   "execution_count": 1,
   "metadata": {},
   "outputs": [
    {
     "data": {
      "text/html": [
       "<style>div.hilfe_header { background-color: #FDFFC3;border-color: #FDFFC3; border-left: 5px solid #FDFFC3; border-top: 5px solid #FDFFC3;border-right: 5px solid #FDFFC3; border-bottom: 5px solid #FDFFC3;padding: 0.5em; font-size: 25px;font-weight: bold; color: #000000}div.hilfe { background-color: #FFFFE7;border-color: #FDFFC3; border-left: 5px solid #FDFFC3; border-top: 5px solid #FDFFC3;border-right: 5px solid #FDFFC3; border-bottom: 5px solid #FDFFC3; padding: 0.5em;}div.erklaerung_header { background-color: #96C69B;border-color: #96C69B; border-left: 5px solid #96C69B; border-right: 5px solid #96C69B; border-top: 5px solid #96C69B; border-bottom: 5px solid #96C69B;padding: 0.5em; font-size: 25px;font-weight: bold; color: #FFFFFF}div.erklaerung { background-color: #E9FFE7;border-color: #96C69B; border-left: 5px solid #96C69B; border-right: 5px solid #96C69B; border-bottom: 5px solid #96C69B;padding: 0.5em;}div.hinweis_header { background-color: #D09E9E;border-color: #D09E9E; border-left: 5px solid #D09E9E; border-right: 5px solid #D09E9E; border-top: 5px solid #D09E9E; border-bottom: 5px solid #D09E9E;padding: 0.5em; font-size: 25px;font-weight: bold; color: #FFFFFF}div.hinweis { background-color: #FFE8E8;border-color: #D09E9E; border-left: 5px solid #D09E9E; border-right: 5px solid #D09E9E; border-top: 5px solid #D09E9E; border-bottom: 5px solid #D09E9E;padding: 0.5em;}div.aufgabe_header { background-color: #97A7C7;border-color: #97A7C7; border-left: 5px solid #97A7C7; border-right: 5px solid #97A7C7; border-top: 5px solid #97A7C7; border-bottom: 5px solid #97A7C7;padding: 0.5em; font-size: 25px;font-weight: bold; color: #FFFFFF}div.aufgabe { background-color: #E9F4FF;border-color: #97A7C7; border-left: 5px solid #97A7C7; border-right: 5px solid #97A7C7; border-top: 5px solid #97A7C7; border-bottom: 5px solid #97A7C7;padding: 0.5em;}div.task_header { background-color: #97A7C7;border-color: #97A7C7; border-left: 1px solid #97A7C7; border-right: 1px solid #97A7C7; border-top: 1px solid #97A7C7; border-bottom: 1px solid #97A7C7;padding: 0.5em; font-size: 20px;font-weight: bold; color: #FFFFFF}div.task { background-color: #E9F4FF;border-color: #97A7C7; border-left: 5px solid #97A7C7; border-right: 5px solid #97A7C7; border-top: 5px solid #97A7C7; border-bottom: 5px solid #97A7C7;padding: 0.5em;font-size: 15px;}</style>"
      ],
      "text/plain": [
       "<IPython.core.display.HTML object>"
      ]
     },
     "execution_count": 1,
     "metadata": {},
     "output_type": "execute_result"
    }
   ],
   "source": [
    "from markdown import *\n",
    "HTML(style)"
   ]
  },
  {
   "cell_type": "markdown",
   "metadata": {},
   "source": [
    "Um nun Text in einer Box zu erstellen, wird zunächst der Box-Header in die entsprechende header-class geschrieben und dann der eigentliche Inhalt in die jeweilige body-class. Das passiert in einer Markdown-Zelle (Doppelklick auf die Zelle, um den Code zu sehen)"
   ]
  },
  {
   "cell_type": "markdown",
   "metadata": {},
   "source": [
    "<div class=\"erklaerung_header\">\n",
    "Erklärung\n",
    "</div>\n",
    "<div class=\"erklaerung\">\n",
    "    Hier steht eine Erklärung...\n",
    "</div>"
   ]
  },
  {
   "cell_type": "markdown",
   "metadata": {},
   "source": [
    "<div class = \"hinweis_header\">\n",
    "    Hinweis\n",
    "</div>\n",
    "<div class = \"hinweis\">\n",
    "    Hier steht ein Hinweis\n",
    "</div>"
   ]
  },
  {
   "cell_type": "markdown",
   "metadata": {},
   "source": [
    "<div class = \"aufgabe_header\">\n",
    "    Aufgabe\n",
    "</div>\n",
    "<div class = \"aufgabe\">\n",
    "    Hier steht eine Aufgabe.\n",
    "</div>"
   ]
  },
  {
   "cell_type": "markdown",
   "metadata": {},
   "source": [
    "Man kann den header-Text und den body-Text auch ändern, indem man einfach etwas zwischen die entsprechenden div-Tags schreibt:"
   ]
  },
  {
   "cell_type": "markdown",
   "metadata": {},
   "source": [
    "<div class = \"hinweis_header\">\n",
    "    Hier kann irgendwas stehen\n",
    "</div>\n",
    "<div class = \"hinweis\">\n",
    "    ... und hier auch\n",
    "</div>"
   ]
  }
 ],
 "metadata": {
  "kernelspec": {
   "display_name": "Python 3",
   "language": "python",
   "name": "python3"
  },
  "language_info": {
   "codemirror_mode": {
    "name": "ipython",
    "version": 3
   },
   "file_extension": ".py",
   "mimetype": "text/x-python",
   "name": "python",
   "nbconvert_exporter": "python",
   "pygments_lexer": "ipython3",
   "version": "3.8.5"
  }
 },
 "nbformat": 4,
 "nbformat_minor": 4
}
